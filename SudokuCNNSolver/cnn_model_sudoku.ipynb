{
 "cells": [
  {
   "cell_type": "code",
   "execution_count": 58,
   "id": "834a8986",
   "metadata": {},
   "outputs": [],
   "source": [
    "\n",
    "import numpy as np\n",
    "import pandas as pd\n",
    "import keras\n",
    "import keras.backend as K\n",
    "from tensorflow.keras.optimizers import Adam\n",
    "from keras.models import Sequential\n",
    "from tensorflow.keras.utils import Sequence\n",
    "from keras.layers import *\n",
    "import matplotlib.pyplot as plt\n",
    "\n",
    "# data = pd.read_csv(\"sudoku_dataset/sudoku.csv\")\n",
    "data = pd.read_csv(\"sudoku_dataset/sudoku.csv\", nrows=1_000_000) \n",
    "data = pd.DataFrame({\"problem\":data[\"puzzle\"],\"solutions\":data[\"solution\"]})"
   ]
  },
  {
   "cell_type": "code",
   "execution_count": 59,
   "id": "7011a92a",
   "metadata": {},
   "outputs": [
    {
     "name": "stdout",
     "output_type": "stream",
     "text": [
      "(1000000, 2)\n",
      "Problem:\r\n",
      "\r\n",
      " [[0 7 0 0 0 0 0 4 3]\n",
      " [0 4 0 0 0 9 6 1 0]\n",
      " [8 0 0 6 3 4 9 0 0]\n",
      " [0 9 4 0 5 2 0 0 0]\n",
      " [3 5 8 4 6 0 0 2 0]\n",
      " [0 0 0 8 0 0 5 3 0]\n",
      " [0 8 0 0 7 0 0 9 1]\n",
      " [9 0 2 1 0 0 0 0 5]\n",
      " [0 0 7 0 4 0 8 0 2]]\n",
      "Solution: \r\n",
      "\r\n",
      " [[6 7 9 5 1 8 2 4 3]\n",
      " [5 4 3 7 2 9 6 1 8]\n",
      " [8 2 1 6 3 4 9 5 7]\n",
      " [7 9 4 3 5 2 1 8 6]\n",
      " [3 5 8 4 6 1 7 2 9]\n",
      " [2 1 6 8 9 7 5 3 4]\n",
      " [4 8 5 2 7 6 3 9 1]\n",
      " [9 6 2 1 8 3 4 7 5]\n",
      " [1 3 7 9 4 5 8 6 2]]\n"
     ]
    }
   ],
   "source": [
    "import os\n",
    "print(data.shape)\n",
    "print(f\"Problem:{os.linesep*2} {np.array(list(map(int,list(data['problem'][0])))).reshape(9,9)}\")\n",
    "print(f\"Solution: {os.linesep*2} {np.array(list(map(int,list(data['solutions'][0])))).reshape(9,9)}\")\n"
   ]
  },
  {
   "cell_type": "code",
   "execution_count": 60,
   "id": "d161380a",
   "metadata": {},
   "outputs": [],
   "source": [
    "class featureGeneration(Sequence):\n",
    "    def __init__(self, dataset, batch_size = 16, action = \"train\", data_path = \"sudoku_dataset/\", info={}):\n",
    "        super().__init__()\n",
    "        self.dataset = dataset\n",
    "        self.batch_size = batch_size\n",
    "        self.action = action\n",
    "        self.info = info   \n",
    "        self.data_path = data_path\n",
    "        self.on_epoch_end()\n",
    "        \n",
    "    def __len__(self):\n",
    "        return int(np.floor(len(self.dataset)/self.batch_size))\n",
    "    \n",
    "    def on_epoch_end(self):\n",
    "        self.indexes = np.arange(len(self.dataset))\n",
    "   \n",
    "    def __getitem__(self,index):\n",
    "        X = np.empty((self.batch_size, 9,9,1))\n",
    "        y = np.empty((self.batch_size,81,1))\n",
    "        indexes = self.indexes[index*self.batch_size:(index+1)*self.batch_size]\n",
    "        for i,f in enumerate(self.dataset['problem'].iloc[indexes]):\n",
    "            self.info[index*self.batch_size+i]=f\n",
    "            X[i,] = (np.array(list(map(int,list(f)))).reshape((9,9,1))/9)-0.5\n",
    "        if self.action == 'train': \n",
    "            for i,f in enumerate(self.dataset['solutions'].iloc[indexes]):\n",
    "                self.info[index*self.batch_size+i]=f\n",
    "                y[i,] = np.array(list(map(int,list(f)))).reshape((81,1)) - 1\n",
    "        if self.action == 'train': return X, y\n",
    "        else: return X"
   ]
  },
  {
   "cell_type": "code",
   "execution_count": 61,
   "id": "c10e59ae",
   "metadata": {},
   "outputs": [],
   "source": [
    "model = Sequential()\n",
    "\n",
    "model.add(Conv2D(64, kernel_size=(3,3), activation='relu', padding='same', input_shape=(9,9,1)))\n",
    "model.add(BatchNormalization())\n",
    "model.add(Conv2D(64, kernel_size=(3,3), activation='relu', padding='same'))\n",
    "model.add(BatchNormalization())\n",
    "model.add(Conv2D(128, kernel_size=(1,1), activation='relu', padding='same'))\n",
    "\n",
    "model.add(Flatten())\n",
    "model.add(Dense(81*9))\n",
    "model.add(Reshape((-1, 9)))\n",
    "model.add(Activation('softmax'))\n",
    "\n",
    "adam = Adam(learning_rate=.001)\n",
    "model.compile(loss='sparse_categorical_crossentropy', optimizer=adam, metrics=['accuracy'])"
   ]
  },
  {
   "cell_type": "code",
   "execution_count": 62,
   "id": "ab9d1c14",
   "metadata": {},
   "outputs": [],
   "source": [
    "train_idx = int(len(data)*0.95)\n",
    "data = data.sample(frac=1).reset_index(drop=True)\n",
    "training_data = featureGeneration(data.iloc[:train_idx], action = \"train\", batch_size=640)\n",
    "validation_data = featureGeneration(data.iloc[train_idx:], action = \"train\",  batch_size=640)\n",
    "\n",
    "\n",
    "from keras.callbacks import Callback, ModelCheckpoint, ReduceLROnPlateau\n",
    "iter_model_file=\"weights-improv-{epoch:02d}-{val_accuracy:.2f}.hdf5\"\n",
    "model_file = \"best_weights.hdf5\"\n",
    "checkpoint1 = ModelCheckpoint(iter_model_file, monitor='val_accuracy', verbose=1, save_best_only=True, mode='max')\n",
    "checkpoint2 = ModelCheckpoint(model_file, monitor='val_accuracy', verbose=1, save_best_only=True, mode='max')\n",
    "reduce_lr = ReduceLROnPlateau(\n",
    "    monitor='val_loss',\n",
    "    patience=3,\n",
    "    verbose=1,\n",
    "    min_lr=1e-6\n",
    ")\n",
    "callbacks_list = [checkpoint1,checkpoint2,reduce_lr]\n"
   ]
  },
  {
   "cell_type": "code",
   "execution_count": 63,
   "id": "484c7e54",
   "metadata": {},
   "outputs": [
    {
     "name": "stdout",
     "output_type": "stream",
     "text": [
      "Epoch 1/10\n"
     ]
    },
    {
     "name": "stderr",
     "output_type": "stream",
     "text": [
      "C:\\Users\\rkhna\\AppData\\Local\\Temp\\ipykernel_28720\\705601806.py:1: UserWarning: `Model.fit_generator` is deprecated and will be removed in a future version. Please use `Model.fit`, which supports generators.\n",
      "  history = model.fit_generator(training_data, validation_data = validation_data, epochs = 10, verbose=1,callbacks=callbacks_list )\n"
     ]
    },
    {
     "name": "stdout",
     "output_type": "stream",
     "text": [
      "1484/1484 [==============================] - ETA: 0s - loss: 0.7456 - accuracy: 0.1114\n",
      "Epoch 1: val_accuracy improved from -inf to 0.10835, saving model to weights-improv-01-0.11.hdf5\n",
      "\n",
      "Epoch 1: val_accuracy improved from -inf to 0.10835, saving model to best_weights.hdf5\n",
      "1484/1484 [==============================] - 669s 451ms/step - loss: 0.7456 - accuracy: 0.1114 - val_loss: 0.4400 - val_accuracy: 0.1084 - lr: 0.0010\n",
      "Epoch 2/10\n",
      "1484/1484 [==============================] - ETA: 0s - loss: 0.4211 - accuracy: 0.1109\n",
      "Epoch 2: val_accuracy improved from 0.10835 to 0.11227, saving model to weights-improv-02-0.11.hdf5\n",
      "\n",
      "Epoch 2: val_accuracy improved from 0.10835 to 0.11227, saving model to best_weights.hdf5\n",
      "1484/1484 [==============================] - 734s 495ms/step - loss: 0.4211 - accuracy: 0.1109 - val_loss: 0.4140 - val_accuracy: 0.1123 - lr: 0.0010\n",
      "Epoch 3/10\n",
      "1484/1484 [==============================] - ETA: 0s - loss: 0.4030 - accuracy: 0.1111\n",
      "Epoch 3: val_accuracy improved from 0.11227 to 0.11257, saving model to weights-improv-03-0.11.hdf5\n",
      "\n",
      "Epoch 3: val_accuracy improved from 0.11227 to 0.11257, saving model to best_weights.hdf5\n",
      "1484/1484 [==============================] - 717s 483ms/step - loss: 0.4030 - accuracy: 0.1111 - val_loss: 0.4019 - val_accuracy: 0.1126 - lr: 0.0010\n",
      "Epoch 4/10\n",
      "1484/1484 [==============================] - ETA: 0s - loss: 0.3914 - accuracy: 0.1111\n",
      "Epoch 4: val_accuracy did not improve from 0.11257\n",
      "\n",
      "Epoch 4: val_accuracy did not improve from 0.11257\n",
      "1484/1484 [==============================] - 649s 438ms/step - loss: 0.3914 - accuracy: 0.1111 - val_loss: 0.3961 - val_accuracy: 0.1124 - lr: 0.0010\n",
      "Epoch 5/10\n",
      "1484/1484 [==============================] - ETA: 0s - loss: 0.3831 - accuracy: 0.1111\n",
      "Epoch 5: val_accuracy did not improve from 0.11257\n",
      "\n",
      "Epoch 5: val_accuracy did not improve from 0.11257\n",
      "1484/1484 [==============================] - 663s 447ms/step - loss: 0.3831 - accuracy: 0.1111 - val_loss: 0.3925 - val_accuracy: 0.1115 - lr: 0.0010\n",
      "Epoch 6/10\n",
      "1484/1484 [==============================] - ETA: 0s - loss: 0.3767 - accuracy: 0.1111\n",
      "Epoch 6: val_accuracy did not improve from 0.11257\n",
      "\n",
      "Epoch 6: val_accuracy did not improve from 0.11257\n",
      "1484/1484 [==============================] - 643s 433ms/step - loss: 0.3767 - accuracy: 0.1111 - val_loss: 0.3922 - val_accuracy: 0.1113 - lr: 0.0010\n",
      "Epoch 7/10\n",
      "1484/1484 [==============================] - ETA: 0s - loss: 0.3710 - accuracy: 0.1112\n",
      "Epoch 7: val_accuracy did not improve from 0.11257\n",
      "\n",
      "Epoch 7: val_accuracy did not improve from 0.11257\n",
      "1484/1484 [==============================] - 634s 427ms/step - loss: 0.3710 - accuracy: 0.1112 - val_loss: 0.3929 - val_accuracy: 0.1120 - lr: 0.0010\n",
      "Epoch 8/10\n",
      "1484/1484 [==============================] - ETA: 0s - loss: 0.3660 - accuracy: 0.1112\n",
      "Epoch 8: val_accuracy improved from 0.11257 to 0.11311, saving model to weights-improv-08-0.11.hdf5\n",
      "\n",
      "Epoch 8: val_accuracy improved from 0.11257 to 0.11311, saving model to best_weights.hdf5\n",
      "1484/1484 [==============================] - 699s 471ms/step - loss: 0.3660 - accuracy: 0.1112 - val_loss: 0.3937 - val_accuracy: 0.1131 - lr: 0.0010\n",
      "Epoch 9/10\n",
      "1484/1484 [==============================] - ETA: 0s - loss: 0.3618 - accuracy: 0.1112\n",
      "Epoch 9: val_accuracy did not improve from 0.11311\n",
      "\n",
      "Epoch 9: val_accuracy did not improve from 0.11311\n",
      "\n",
      "Epoch 9: ReduceLROnPlateau reducing learning rate to 0.00010000000474974513.\n",
      "1484/1484 [==============================] - 686s 462ms/step - loss: 0.3618 - accuracy: 0.1112 - val_loss: 0.3957 - val_accuracy: 0.1123 - lr: 0.0010\n",
      "Epoch 10/10\n",
      "1484/1484 [==============================] - ETA: 0s - loss: 0.3432 - accuracy: 0.1113\n",
      "Epoch 10: val_accuracy did not improve from 0.11311\n",
      "\n",
      "Epoch 10: val_accuracy did not improve from 0.11311\n",
      "1484/1484 [==============================] - 711s 479ms/step - loss: 0.3432 - accuracy: 0.1113 - val_loss: 0.3999 - val_accuracy: 0.1107 - lr: 1.0000e-04\n"
     ]
    }
   ],
   "source": [
    "history = model.fit_generator(training_data, validation_data = validation_data, epochs = 10, verbose=1,callbacks=callbacks_list )"
   ]
  },
  {
   "cell_type": "code",
   "execution_count": 64,
   "id": "ce6f5e1c",
   "metadata": {},
   "outputs": [
    {
     "data": {
      "image/png": "[encoded data removed]",
      "text/plain": [
       "<Figure size 432x288 with 1 Axes>"
      ]
     },
     "metadata": {
      "needs_background": "light"
     },
     "output_type": "display_data"
    },
    {
     "data": {
      "image/png": "[encoded data removed]",
      "text/plain": [
       "<Figure size 432x288 with 1 Axes>"
      ]
     },
     "metadata": {
      "needs_background": "light"
     },
     "output_type": "display_data"
    }
   ],
   "source": [
    "# summarize history for loss\n",
    "plt.plot(history.history['accuracy'])\n",
    "plt.plot(history.history['val_accuracy'])\n",
    "plt.title('model accuracy')\n",
    "plt.ylabel('accuracy')\n",
    "plt.xlabel('epoch')\n",
    "plt.legend(['Train', 'Validation'], loc='upper left')\n",
    "plt.show()\n",
    "# summarize history for loss\n",
    "plt.plot(history.history['loss'])\n",
    "plt.plot(history.history['val_loss'])\n",
    "plt.title('model loss')\n",
    "plt.ylabel('loss')\n",
    "plt.xlabel('epoch')\n",
    "plt.legend(['Train', 'Validation'], loc='upper left')\n",
    "plt.show()"
   ]
  },
  {
   "cell_type": "code",
   "execution_count": 65,
   "id": "80c4f394",
   "metadata": {},
   "outputs": [],
   "source": [
    "model.load_weights(model_file)"
   ]
  },
  {
   "cell_type": "code",
   "execution_count": 66,
   "id": "87a4728c",
   "metadata": {},
   "outputs": [],
   "source": [
    "def normalize(a):\n",
    "    return (a/9)-.5\n",
    "\n",
    "def denormalize(a):\n",
    "    return (a+.5)*9\n",
    "\n",
    "def fill_sudoku_with_trained_model(problem):    \n",
    "    feat = problem\n",
    "    \n",
    "    while True:\n",
    "        out = model.predict(feat.reshape((1,9,9,1)))  \n",
    "        out = out.squeeze()\n",
    "\n",
    "        pred = np.argmax(out, axis=1).reshape((9,9))+1 \n",
    "        prob = np.around(np.max(out, axis=1).reshape((9,9)), 2) \n",
    "        \n",
    "        feat = denormalize(feat).reshape((9,9))\n",
    "        mask = (feat==0)\n",
    "\n",
    "        if(mask.sum()==0):\n",
    "            break\n",
    "            \n",
    "        prob_new = prob*mask\n",
    "        ind = np.argmax(prob_new)\n",
    "        x, y = (ind//9), (ind%9)\n",
    "        val = pred[x][y]\n",
    "        feat[x][y] = val\n",
    "        feat = normalize(feat)\n",
    "    return pred\n",
    "\n",
    "def test_accuracy(feats, labels):\n",
    "    correct = 0\n",
    "    for i,feat in enumerate(feats):\n",
    "        pred = fill_sudoku_with_trained_model(feat)\n",
    "        true = labels[i].reshape((9,9))+1\n",
    "        if(abs(true - pred).sum()==0):\n",
    "            correct += 1\n",
    "    print(correct/feats.shape[0])\n",
    "\n",
    "def solve_sudoku(game):\n",
    "    game = game.replace('\\n', '')\n",
    "    game = game.replace(' ', '')\n",
    "    game = np.array([int(j) for j in game]).reshape((9,9,1))\n",
    "    game = normalize(game)\n",
    "    game = fill_sudoku_with_trained_model(game)\n",
    "    return game"
   ]
  },
  {
   "cell_type": "code",
   "execution_count": 77,
   "id": "86632a9b",
   "metadata": {},
   "outputs": [
    {
     "name": "stdout",
     "output_type": "stream",
     "text": [
      "\tsolved sudoku puzzle\n",
      "\n",
      "[[8 6 7 1 3 4 9 5 2]\n",
      " [2 4 1 5 9 6 7 8 3]\n",
      " [3 9 5 8 7 2 6 1 4]\n",
      " [9 7 8 6 2 5 4 3 1]\n",
      " [4 5 6 3 1 8 2 7 9]\n",
      " [1 2 3 9 4 7 8 6 5]\n",
      " [5 3 4 7 6 9 1 2 8]\n",
      " [6 1 9 2 8 3 5 4 7]\n",
      " [7 8 2 4 5 1 3 9 6]]\n"
     ]
    }
   ],
   "source": [
    "game = '''\n",
    "            2 1 0 0 6 0 0 0 0 \n",
    "            0 3 0 0 0 0 0 0 0 \n",
    "            6 0 0 0 0 0 4 9 7 \n",
    "            0 0 0 0 0 0 3 0 4 \n",
    "            0 0 0 0 0 9 0 6 0 \n",
    "            0 7 3 0 5 0 8 0 0 \n",
    "            5 0 0 4 0 7 9 0 1 \n",
    "            0 0 2 0 1 0 0 0 0 \n",
    "            0 0 0 0 0 0 0 0 0 \n",
    "      '''\n",
    "game = solve_sudoku(game1)\n",
    "\n",
    "print('\\tsolved sudoku puzzle\\n')\n",
    "print(game)"
   ]
  },
  {
   "cell_type": "code",
   "execution_count": 83,
   "id": "8fd65deb",
   "metadata": {},
   "outputs": [
    {
     "name": "stdout",
     "output_type": "stream",
     "text": [
      "400079002759213000260000790000008501590360007010754086106002070007036010000000264\n",
      "\tsolved sudoku puzzle\n",
      " [[4 8 3 6 7 9 1 5 2]\n",
      " [7 5 9 2 1 3 6 4 8]\n",
      " [2 6 1 8 4 5 7 9 3]\n",
      " [6 7 4 9 2 8 5 3 1]\n",
      " [5 9 8 3 6 1 4 2 7]\n",
      " [3 1 2 7 5 4 9 8 6]\n",
      " [1 4 6 5 8 2 3 7 9]\n",
      " [9 2 7 4 3 6 8 1 5]\n",
      " [8 3 5 1 9 7 2 6 4]]\n",
      "300100205508300014007240863002000000000502080046830052009600341400023000003480020\n",
      "\tsolved sudoku puzzle\n",
      " [[3 6 4 1 7 8 2 9 5]\n",
      " [5 2 8 3 9 6 7 1 4]\n",
      " [1 9 7 2 4 5 8 6 3]\n",
      " [8 5 2 7 1 4 9 3 6]\n",
      " [9 3 1 5 6 2 4 8 7]\n",
      " [7 4 6 8 3 9 1 5 2]\n",
      " [2 8 9 6 5 7 3 4 1]\n",
      " [4 1 5 9 2 3 6 7 8]\n",
      " [6 7 3 4 8 1 5 2 9]]\n",
      "008603010090004872000000004830961000207430006904000380073280000621097058080046020\n",
      "\tsolved sudoku puzzle\n",
      " [[7 4 8 6 2 3 9 1 5]\n",
      " [3 9 6 5 1 4 8 7 2]\n",
      " [1 5 2 8 7 9 6 3 4]\n",
      " [8 3 5 9 6 1 2 4 7]\n",
      " [2 1 7 4 3 8 5 9 6]\n",
      " [9 6 4 7 5 2 3 8 1]\n",
      " [4 7 3 2 8 5 1 6 9]\n",
      " [6 2 1 3 9 7 4 5 8]\n",
      " [5 8 9 1 4 6 7 2 3]]\n",
      "008900300400720069796003100810030705307089012562004000605008000200005090900200500\n",
      "\tsolved sudoku puzzle\n",
      " [[1 2 8 9 4 6 3 5 7]\n",
      " [4 5 3 7 2 1 8 6 9]\n",
      " [7 9 6 8 5 3 1 2 4]\n",
      " [8 1 9 6 3 2 7 4 5]\n",
      " [3 4 7 5 8 9 6 1 2]\n",
      " [5 6 2 1 7 4 9 8 3]\n",
      " [6 3 5 4 9 8 2 7 1]\n",
      " [2 7 1 3 6 5 4 9 8]\n",
      " [9 8 4 2 1 7 5 3 6]]\n",
      "060847000089010040734000000040050802820091060056728419092674130470000290610089054\n",
      "\tsolved sudoku puzzle\n",
      " [[1 6 5 8 4 7 9 2 3]\n",
      " [2 8 9 5 1 3 6 4 7]\n",
      " [7 3 4 9 6 2 5 8 1]\n",
      " [9 4 1 3 5 6 8 7 2]\n",
      " [8 2 7 4 9 1 3 6 5]\n",
      " [3 5 6 7 2 8 4 1 9]\n",
      " [5 9 2 6 7 4 1 3 8]\n",
      " [4 7 8 1 3 5 2 9 6]\n",
      " [6 1 3 2 8 9 7 5 4]]\n"
     ]
    }
   ],
   "source": [
    "problem_set = data.head(5)['problem'].to_list()\n",
    "for problem in problem_set:\n",
    "    game = solve_sudoku(problem)\n",
    "    print(problem)\n",
    "    print(f\"\\tsolved sudoku puzzle\\n {game}\")"
   ]
  },
  {
   "cell_type": "code",
   "execution_count": 116,
   "id": "af6e2be3",
   "metadata": {},
   "outputs": [
    {
     "name": "stdout",
     "output_type": "stream",
     "text": [
      "165847923289513647734962581941356872827491365356728419592674138478135296613289754\n"
     ]
    }
   ],
   "source": [
    "import ast\n",
    "arrayToListSolution=np.array2string(game, separator=\"\").replace(\"\\n\",\",\")\n",
    "solution_string = ''.join([str(i[0]) for i in ast.literal_eval(arrayToListSolution)])\n",
    "print(solution_string)"
   ]
  }
 ],
 "metadata": {
  "kernelspec": {
   "display_name": "Python 3 (ipykernel)",
   "language": "python",
   "name": "python3"
  },
  "language_info": {
   "codemirror_mode": {
    "name": "ipython",
    "version": 3
   },
   "file_extension": ".py",
   "mimetype": "text/x-python",
   "name": "python",
   "nbconvert_exporter": "python",
   "pygments_lexer": "ipython3",
   "version": "3.9.12"
  }
 },
 "nbformat": 4,
 "nbformat_minor": 5
}
